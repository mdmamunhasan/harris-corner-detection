{
 "cells": [
  {
   "cell_type": "code",
   "execution_count": 38,
   "metadata": {},
   "outputs": [],
   "source": [
    "import os\n",
    "import csv\n",
    "import cv2\n",
    "import glob\n",
    "import numpy as np\n",
    "from matplotlib import pyplot as plt\n",
    "# np.set_printoptions(threshold=sys.maxsize)"
   ]
  },
  {
   "cell_type": "code",
   "execution_count": 39,
   "metadata": {},
   "outputs": [],
   "source": [
    "def dnorm(x, sd):\n",
    "    return 1 / (np.sqrt(2 * np.pi) * sd) * np.e ** (-np.power(x / sd, 2) / 2)"
   ]
  },
  {
   "cell_type": "code",
   "execution_count": 40,
   "metadata": {},
   "outputs": [],
   "source": [
    "def myGaussianKernel(size, sigma=1, verbose=False):\n",
    "    kernel_1D = np.linspace(-(size // 2), size // 2, size)\n",
    "    for i in range(size):\n",
    "        kernel_1D[i] = dnorm(kernel_1D[i], sigma)\n",
    "    print(kernel_1D)\n",
    "\n",
    "    kernel_2D = np.outer(kernel_1D, kernel_1D)\n",
    "    kernel_2D *= 1.0 / kernel_2D.max()\n",
    "\n",
    "    plt.imshow(kernel_2D, interpolation='none', cmap='gray')\n",
    "    plt.title(\"Gaussian Kernel Image\")\n",
    "\n",
    "    if verbose:\n",
    "        plt.show()\n",
    "    else:\n",
    "        plt.savefig(os.path.join(\"output\", f\"gk{size}_{sigma}.png\"))\n",
    "\n",
    "    return kernel_2D"
   ]
  },
  {
   "cell_type": "code",
   "execution_count": 41,
   "metadata": {},
   "outputs": [],
   "source": [
    "def myBoxKernel(size, sigma=1, verbose=False):\n",
    "    kernel_2D = np.ones((size, size)) / 9\n",
    "\n",
    "    plt.imshow(kernel_2D, interpolation='none', cmap='gray')\n",
    "    plt.title(\"Box Kernel Image\")\n",
    "\n",
    "    if verbose:\n",
    "        plt.show()\n",
    "    else:\n",
    "        plt.savefig(os.path.join(\"output\", f\"gk{size}_{sigma}.png\"))\n",
    "\n",
    "    return kernel_2D"
   ]
  },
  {
   "cell_type": "code",
   "execution_count": 42,
   "metadata": {},
   "outputs": [
    {
     "name": "stdout",
     "output_type": "stream",
     "text": [
      "[0.24197072 0.39894228 0.24197072]\n"
     ]
    },
    {
     "data": {
      "image/png": "[encoded data removed]",
      "text/plain": [
       "<Figure size 432x288 with 1 Axes>"
      ]
     },
     "metadata": {
      "needs_background": "light"
     },
     "output_type": "display_data"
    },
    {
     "data": {
      "text/plain": [
       "array([[0.36787944, 0.60653066, 0.36787944],\n",
       "       [0.60653066, 1.        , 0.60653066],\n",
       "       [0.36787944, 0.60653066, 0.36787944]])"
      ]
     },
     "execution_count": 42,
     "metadata": {},
     "output_type": "execute_result"
    }
   ],
   "source": [
    "# kernel = cv2.getGaussianKernel(5, sigma=2) # skip built in method\n",
    "kernel = myGaussianKernel(size=3, sigma=1, verbose=True)\n",
    "# kernel = myBoxKernel(size=3, verbose=True)\n",
    "kernel"
   ]
  },
  {
   "cell_type": "code",
   "execution_count": 43,
   "metadata": {
    "scrolled": true
   },
   "outputs": [],
   "source": [
    "def myImageFilter(image, kernel, average=False, verbose=False):\n",
    "    print(\"Image Shape : {}\".format(image.shape))\n",
    "    print(\"Kernel Shape : {}\".format(kernel.shape))\n",
    "\n",
    "    if verbose:\n",
    "        plt.imshow(image, cmap='gray')\n",
    "        plt.title(\"Image\")\n",
    "        plt.show()\n",
    "\n",
    "    image_row, image_col = image.shape\n",
    "    kernel_row, kernel_col = kernel.shape\n",
    "\n",
    "    output = np.zeros(image.shape)\n",
    "\n",
    "    pad_height = int((kernel_row - 1) / 2)\n",
    "    pad_width = int((kernel_col - 1) / 2)\n",
    "\n",
    "    padded_image = np.zeros((image_row + (2 * pad_height), image_col + (2 * pad_width)))\n",
    "\n",
    "    padded_image[pad_height:padded_image.shape[0] - pad_height, pad_width:padded_image.shape[1] - pad_width] = image\n",
    "\n",
    "    if verbose:\n",
    "        plt.imshow(padded_image, cmap='gray')\n",
    "        plt.title(\"Padded Image\")\n",
    "        plt.show()\n",
    "\n",
    "    for row in range(image_row):\n",
    "        for col in range(image_col):\n",
    "            output[row, col] = np.sum(kernel * padded_image[row:row + kernel_row, col:col + kernel_col])\n",
    "            if average:\n",
    "                output[row, col] /= kernel.shape[0] * kernel.shape[1]\n",
    "\n",
    "    print(\"Output Image Size : {}\".format(output.shape))\n",
    "\n",
    "    if verbose:\n",
    "        plt.imshow(output, cmap='gray')\n",
    "        plt.title(\"Output Image using {}X{} Kernel\".format(kernel_row, kernel_col))\n",
    "        plt.show()\n",
    "\n",
    "    return output"
   ]
  },
  {
   "cell_type": "code",
   "execution_count": 44,
   "metadata": {},
   "outputs": [],
   "source": [
    "def saveCornerResult(filename, output_dir, corner_list, corner_img):\n",
    "    with open(os.path.join(output_dir, f\"{filename}_corners.csv\"), 'w') as corner_file:\n",
    "        writer = csv.DictWriter(corner_file, fieldnames=[\"x\", \"y\", \"r\"])\n",
    "        writer.writeheader()\n",
    "        for i in range(len(corner_list)):\n",
    "            writer.writerow({\n",
    "                \"x\": str(corner_list[i][0]),\n",
    "                \"y\": str(corner_list[i][1]),\n",
    "                \"r\": str(corner_list[i][2])\n",
    "            })\n",
    "\n",
    "    if corner_img is not None:\n",
    "        cv2.imwrite(os.path.join(output_dir, f\"{filename}.png\"), corner_img)"
   ]
  },
  {
   "cell_type": "code",
   "execution_count": 50,
   "metadata": {},
   "outputs": [],
   "source": [
    "def findImageCorners(filepath, kernel, verbose=False):\n",
    "    input_img = cv2.imread(filepath)\n",
    "    gray_img = cv2.cvtColor(input_img, cv2.COLOR_BGR2GRAY)\n",
    "    output_dir = None\n",
    "    \n",
    "    if verbose:\n",
    "        plt.title(\"Input Image\")\n",
    "        plt.imshow(gray_img, cmap='gray')\n",
    "        plt.show()\n",
    "    else:\n",
    "        filename = filepath.split(os.path.sep, 2)[-1]\n",
    "        dynamic_dir = filename.replace('.', '_')\n",
    "        output_dir = os.path.join(\"output\", dynamic_dir)\n",
    "        if not os.path.exists(output_dir):\n",
    "            os.makedirs(output_dir)\n",
    "    \n",
    "    window_size = 5\n",
    "\n",
    "    # Gx, Gy = np.gradient(gray_img) # skip builtin method\n",
    "    Gxy = myImageFilter(gray_img, kernel, average=True)\n",
    "    Gy = np.diff(Gxy, axis=0, append=0)\n",
    "    plt.title(\"y derivative image\")\n",
    "    plt.imshow(Gy, cmap='gray')\n",
    "    if verbose:\n",
    "        plt.show()\n",
    "    else:\n",
    "        plt.savefig(os.path.join(output_dir, f\"gy.png\"))\n",
    "     \n",
    "    Gx = np.diff(Gxy, axis=1, append=0)\n",
    "    plt.title(\"x derivative image\")\n",
    "    plt.imshow(Gx, cmap='gray')\n",
    "    if verbose:\n",
    "        plt.show()\n",
    "    else:\n",
    "        plt.savefig(os.path.join(output_dir, f\"gx.png\"))\n",
    "    \n",
    "    offset = int(window_size / 2)\n",
    "    y_range = gray_img.shape[0] - offset\n",
    "    x_range = gray_img.shape[1] - offset\n",
    "\n",
    "    # print(\"Gxy Shape : {}\".format(Gxy.shape))\n",
    "    print(\"Gx Shape : {}\".format(Gx.shape))\n",
    "    print(\"Gy Shape : {}\".format(Gy.shape))\n",
    "\n",
    "    Ixx = Gx ** 2\n",
    "    Ixy = Gy * Gx\n",
    "    Iyy = Gy ** 2\n",
    "\n",
    "    harris_corner_list = []\n",
    "    harris_output_img = cv2.cvtColor(gray_img.copy(), cv2.COLOR_GRAY2RGB)\n",
    "    \n",
    "    kanade_corner_list = []\n",
    "    kanade_output_img = cv2.cvtColor(gray_img.copy(), cv2.COLOR_GRAY2RGB)\n",
    "    \n",
    "    nobel_corner_list = []\n",
    "    nobel_output_img = cv2.cvtColor(gray_img.copy(), cv2.COLOR_GRAY2RGB)\n",
    "    \n",
    "    for y in range(offset, y_range):\n",
    "        for x in range(offset, x_range):\n",
    "            # Values of sliding window\n",
    "            start_y = y - offset\n",
    "            end_y = y + offset + 1\n",
    "            start_x = x - offset\n",
    "            end_x = x + offset + 1\n",
    "\n",
    "            # The variable names are representative to\n",
    "            # the variable of the Harris corner equation\n",
    "            windowIxx = Ixx[start_y: end_y, start_x: end_x]\n",
    "            windowIxy = Ixy[start_y: end_y, start_x: end_x]\n",
    "            windowIyy = Iyy[start_y: end_y, start_x: end_x]\n",
    "\n",
    "            # Sum of squares of intensities of partial derevatives\n",
    "            Sxx = windowIxx.sum()\n",
    "            Sxy = windowIxy.sum()\n",
    "            Syy = windowIyy.sum()\n",
    "            \n",
    "            M = np.array([[Sxx, Sxy],[Sxy, Syy]])\n",
    "\n",
    "            # Calculate determinant and trace of the matrix\n",
    "            det = (Sxx * Syy) - (Sxy ** 2)\n",
    "            trace = Sxx + Syy\n",
    "            \n",
    "            # Calculate r for Harris Corner equation\n",
    "            title = \"Harris\"\n",
    "            k = 0.04\n",
    "            r = det - k * (trace ** 2)\n",
    "            threshold = 10000.00\n",
    "            if r > threshold:\n",
    "                harris_corner_list.append([x, y, r])\n",
    "                # cv2.circle(output_img, (x, y), 1, 255, -1)\n",
    "                harris_output_img[y, x] = (0, 0, 255)\n",
    "            \n",
    "            # Calculate r for Kanade & Tomasi Corner equation\n",
    "            title = \"Kanade & Tomasi\"\n",
    "            # lamda1 * lamda2 = det\n",
    "            # lamda1 + lamda2 = trace\n",
    "            w, v = np.linalg.eig(M)\n",
    "            r = np.min(w)\n",
    "            threshold = 1.00\n",
    "            if r > threshold:\n",
    "                kanade_corner_list.append([x, y, r])\n",
    "                # cv2.circle(output_img, (x, y), 1, 255, -1)\n",
    "                kanade_output_img[y, x] = (0, 0, 255)\n",
    "            \n",
    "            # Calculate r for Nobel Corner equation\n",
    "            title = \"Nobel\"\n",
    "            e = 1\n",
    "            r = det / (trace + e)\n",
    "            threshold = 100.00\n",
    "            if r > threshold:\n",
    "                nobel_corner_list.append([x, y, r])\n",
    "                # cv2.circle(output_img, (x, y), 1, 255, -1)\n",
    "                nobel_output_img[y, x] = (0, 0, 255)\n",
    "            \n",
    "    if verbose:\n",
    "        plt.title(\"Harris Output Image\")\n",
    "        plt.imshow(harris_output_img, cmap='gray')\n",
    "        plt.show()\n",
    "        \n",
    "        plt.title(\"Kanade & Tomasi Output Image\")\n",
    "        plt.imshow(kanade_output_img, cmap='gray')\n",
    "        plt.show()\n",
    "        \n",
    "        plt.title(f\"Nobel Output Image\")\n",
    "        plt.imshow(nobel_output_img, cmap='gray')\n",
    "        plt.show()\n",
    "    else:\n",
    "        saveCornerResult(\"harris\", output_dir, harris_corner_list, harris_output_img)\n",
    "        saveCornerResult(\"kanade\", output_dir, kanade_corner_list, kanade_output_img)\n",
    "        saveCornerResult(\"nobel\", output_dir, nobel_corner_list, nobel_output_img)"
   ]
  },
  {
   "cell_type": "code",
   "execution_count": 51,
   "metadata": {},
   "outputs": [
    {
     "name": "stdout",
     "output_type": "stream",
     "text": [
      "Image Shape : (256, 256)\n",
      "Kernel Shape : (3, 3)\n",
      "Output Image Size : (256, 256)\n",
      "Gx Shape : (256, 256)\n",
      "Gy Shape : (256, 256)\n"
     ]
    },
    {
     "data": {
      "image/png": "[encoded data removed]",
      "text/plain": [
       "<Figure size 432x288 with 1 Axes>"
      ]
     },
     "metadata": {
      "needs_background": "light"
     },
     "output_type": "display_data"
    }
   ],
   "source": [
    "filepath = os.path.join(\"images\", \"img1.png\")\n",
    "findImageCorners(filepath, kernel, verbose=False)"
   ]
  },
  {
   "cell_type": "code",
   "execution_count": null,
   "metadata": {},
   "outputs": [],
   "source": [
    "def main():\n",
    "    files = glob.glob(os.path.join(\"images\", \"img*\"))\n",
    "    for fpath in files:\n",
    "        if os.path.isfile(fpath):\n",
    "            findImageCorners(fpath, kernel, verbose=False)"
   ]
  }
 ],
 "metadata": {
  "kernelspec": {
   "display_name": "Python 3",
   "language": "python",
   "name": "python3"
  },
  "language_info": {
   "codemirror_mode": {
    "name": "ipython",
    "version": 3
   },
   "file_extension": ".py",
   "mimetype": "text/x-python",
   "name": "python",
   "nbconvert_exporter": "python",
   "pygments_lexer": "ipython3",
   "version": "3.8.1"
  }
 },
 "nbformat": 4,
 "nbformat_minor": 4
}
